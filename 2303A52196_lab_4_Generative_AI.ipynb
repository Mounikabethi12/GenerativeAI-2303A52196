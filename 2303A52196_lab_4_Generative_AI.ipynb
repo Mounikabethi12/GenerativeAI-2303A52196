{
  "nbformat": 4,
  "nbformat_minor": 0,
  "metadata": {
    "colab": {
      "provenance": [],
      "authorship_tag": "ABX9TyMVp5tHxP6evUv8/4ODC+BA",
      "include_colab_link": true
    },
    "kernelspec": {
      "name": "python3",
      "display_name": "Python 3"
    },
    "language_info": {
      "name": "python"
    }
  },
  "cells": [
    {
      "cell_type": "markdown",
      "metadata": {
        "id": "view-in-github",
        "colab_type": "text"
      },
      "source": [
        "<a href=\"https://colab.research.google.com/github/Mounikabethi12/GenerativeAI-2303A52196/blob/main/2303A52196_lab_4_Generative_AI.ipynb\" target=\"_parent\"><img src=\"https://colab.research.google.com/assets/colab-badge.svg\" alt=\"Open In Colab\"/></a>"
      ]
    },
    {
      "cell_type": "markdown",
      "source": [
        "#ASSIGNMENT-4"
      ],
      "metadata": {
        "id": "lMGiXysWISQ7"
      }
    },
    {
      "cell_type": "markdown",
      "source": [
        "  QUESTION-1"
      ],
      "metadata": {
        "id": "bD38mlPcRWo7"
      }
    },
    {
      "cell_type": "code",
      "source": [
        "\n",
        "Y_actual = [20, 30, 40, 50, 60]\n",
        "Y_pred = [20.5, 30.3, 40.2, 50.6, 60.7]\n",
        "\n",
        "\n",
        "errors = [actual - pred for actual, pred in zip(Y_actual, Y_pred)]\n",
        "\n",
        "\n",
        "mae = sum(abs(error) for error in errors) / len(errors)\n",
        "\n",
        "\n",
        "mse = sum(error ** 2 for error in errors) / len(errors)\n",
        "\n",
        "\n",
        "rmse = mse ** 0.5\n",
        "\n",
        "\n",
        "print(\"Actual Values: \", Y_actual)\n",
        "print(\"Predicted Values: \", Y_pred)\n",
        "print(\"Errors (Y_actual - Y_pred): \", errors)\n",
        "print(\"Mean Absolute Error (MAE): \", mae)\n",
        "print(\"Mean Squared Error (MSE): \", mse)\n",
        "print(\"Root Mean Squared Error (RMSE): \", rmse)\n",
        "\n",
        "\n",
        "print(\"\\nComparison of Actual vs Predicted:\")\n",
        "for actual, pred, error in zip(Y_actual, Y_pred, errors):\n",
        "    print(f\"Actual: {actual}, Predicted: {pred}, Error: {error}\")"
      ],
      "metadata": {
        "colab": {
          "base_uri": "https://localhost:8080/"
        },
        "id": "70Xf9lhuWDP_",
        "outputId": "fd065836-8869-4850-fd7d-9dc9376e7836"
      },
      "execution_count": 78,
      "outputs": [
        {
          "output_type": "stream",
          "name": "stdout",
          "text": [
            "Actual Values:  [20, 30, 40, 50, 60]\n",
            "Predicted Values:  [20.5, 30.3, 40.2, 50.6, 60.7]\n",
            "Errors (Y_actual - Y_pred):  [-0.5, -0.3000000000000007, -0.20000000000000284, -0.6000000000000014, -0.7000000000000028]\n",
            "Mean Absolute Error (MAE):  0.4600000000000016\n",
            "Mean Squared Error (MSE):  0.24600000000000147\n",
            "Root Mean Squared Error (RMSE):  0.49598387070549127\n",
            "\n",
            "Comparison of Actual vs Predicted:\n",
            "Actual: 20, Predicted: 20.5, Error: -0.5\n",
            "Actual: 30, Predicted: 30.3, Error: -0.3000000000000007\n",
            "Actual: 40, Predicted: 40.2, Error: -0.20000000000000284\n",
            "Actual: 50, Predicted: 50.6, Error: -0.6000000000000014\n",
            "Actual: 60, Predicted: 60.7, Error: -0.7000000000000028\n"
          ]
        }
      ]
    },
    {
      "cell_type": "markdown",
      "source": [
        "QUESTION-2"
      ],
      "metadata": {
        "id": "vpXLRJoARagC"
      }
    },
    {
      "cell_type": "code",
      "source": [
        "import numpy as np\n",
        "\n",
        "\n",
        "X_train = np.array([\n",
        "    [0.1, 0.2, 0.3],\n",
        "    [0.2, 0.3, 0.4],\n",
        "    [0.3, 0.4, 0.5],\n",
        "    [0.5, 0.6, 0.7],\n",
        "    [0.1, 0.3, 0.5],\n",
        "    [0.2, 0.4, 0.6],\n",
        "    [0.3, 0.5, 0.7],\n",
        "    [0.4, 0.6, 0.8],\n",
        "    [0.5, 0.7, 0.1]\n",
        "])\n",
        "y_train = np.array([0.5349,0.5498,0.5646,0.5939,0.5548,0.5695,0.5842,0.5987,0.5548])\n",
        "\n",
        "\n",
        "X_test = np.array([\n",
        "    [0.6, 0.7, 0.8],\n",
        "    [0.7, 0.8, 0.9]\n",
        "])\n",
        "y_test = np.array([0.6083,0.62250])\n",
        "\n",
        "\n",
        "weights = np.random.rand(3)  # 3 inputs\n",
        "bias = np.random.rand(1)\n",
        "\n",
        "\n",
        "learning_rate = 0.01\n",
        "\n",
        "\n",
        "def train(X, y, epochs):\n",
        "    global weights, bias\n",
        "    for epoch in range(epochs):\n",
        "        for i in range(len(X)):\n",
        "\n",
        "            y_pred = np.dot(X[i], weights) + bias\n",
        "\n",
        "\n",
        "            error = y[i] - y_pred\n",
        "\n",
        "\n",
        "            weights += learning_rate * error * X[i]\n",
        "            bias += learning_rate * error\n",
        "\n",
        "\n",
        "train(X_train, y_train, epochs=1000)\n",
        "\n",
        "\n",
        "def mean_squared_error(X, y):\n",
        "    predictions = np.dot(X, weights) + bias\n",
        "    mse = np.mean((y - predictions) ** 2)\n",
        "    return mse\n",
        "\n",
        "\n",
        "train_mse = mean_squared_error(X_train, y_train)\n",
        "test_mse = mean_squared_error(X_test, y_test)\n",
        "\n",
        "print(f\"Training MSE: {train_mse:.4f}\")\n",
        "print(f\"Testing MSE: {test_mse:.4f}\")\n",
        "\n",
        "\n",
        "def predict(x1, x2, x3):\n",
        "    input_data = np.array([x1, x2, x3])\n",
        "    prediction = np.dot(input_data, weights) + bias\n",
        "    return prediction\n",
        "\n",
        "\n",
        "x1 = float(input(\"Enter x1: \"))\n",
        "x2 = float(input(\"Enter x2: \"))\n",
        "x3 = float(input(\"Enter x3: \"))\n",
        "output = predict(x1, x2, x3)\n",
        "print(f\"Predicted output: {output[0]:.4f}\")"
      ],
      "metadata": {
        "colab": {
          "base_uri": "https://localhost:8080/"
        },
        "id": "qEfYiWYDRaMC",
        "outputId": "72c52ad4-d5cd-4c6d-cf83-125a7c748a1f"
      },
      "execution_count": 76,
      "outputs": [
        {
          "output_type": "stream",
          "name": "stdout",
          "text": [
            "Training MSE: 0.0003\n",
            "Testing MSE: 0.0000\n",
            "Enter x1: 0.1\n",
            "Enter x2: 0.2\n",
            "Enter x3: 0.3\n",
            "Predicted output: 0.5075\n"
          ]
        }
      ]
    }
  ]
}