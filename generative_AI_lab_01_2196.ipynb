{
  "nbformat": 4,
  "nbformat_minor": 0,
  "metadata": {
    "colab": {
      "provenance": [],
      "authorship_tag": "ABX9TyOhiDiFG8vvsYO7QrkTnNTj",
      "include_colab_link": true
    },
    "kernelspec": {
      "name": "python3",
      "display_name": "Python 3"
    },
    "language_info": {
      "name": "python"
    }
  },
  "cells": [
    {
      "cell_type": "markdown",
      "metadata": {
        "id": "view-in-github",
        "colab_type": "text"
      },
      "source": [
        "<a href=\"https://colab.research.google.com/github/Mounikabethi12/GenerativeAI-2303A52196/blob/main/generative_AI_lab_01_2196.ipynb\" target=\"_parent\"><img src=\"https://colab.research.google.com/assets/colab-badge.svg\" alt=\"Open In Colab\"/></a>"
      ]
    },
    {
      "cell_type": "code",
      "execution_count": null,
      "metadata": {
        "id": "lS9wpZXGRPdS"
      },
      "outputs": [],
      "source": [
        "import math"
      ]
    },
    {
      "cell_type": "code",
      "source": [
        "Y_actual = [20, 30, 40, 50, 60]\n",
        "y_Pred = [20.5, 30.3, 40.2, 50.6, 60.7]\n",
        "mean_actual = 0\n",
        "for i in range(len(Y_actual)):\n",
        "  mean_actual += Y_actual[i]\n",
        "\n",
        "mean_actual = mean_actual/len(Y_actual)\n",
        "print(\"Mean of actual values:\", mean_actual)\n"
      ],
      "metadata": {
        "colab": {
          "base_uri": "https://localhost:8080/"
        },
        "id": "Xn0CX3Q1ReTE",
        "outputId": "9e36b307-6a32-4c69-f80a-be66667f43b0"
      },
      "execution_count": null,
      "outputs": [
        {
          "output_type": "stream",
          "name": "stdout",
          "text": [
            "Mean of actual values: 40.0\n"
          ]
        }
      ]
    },
    {
      "cell_type": "code",
      "source": [
        "squared_diff =[]\n",
        "for i in range(len(Y_actual)):\n",
        "  squared_diff.append((Y_actual[i] - y_Pred[i]) ** 2)\n",
        "mse = sum(squared_diff) / len(Y_actual)\n",
        "rmse = math.sqrt(mse)\n",
        "\n",
        "print(\"RMSE:\", rmse)\n",
        "print(\"mse :\",mse)"
      ],
      "metadata": {
        "colab": {
          "base_uri": "https://localhost:8080/"
        },
        "id": "cF71W58sRu1Q",
        "outputId": "c66f1857-6e49-45a6-b7de-bc4234d8942d"
      },
      "execution_count": null,
      "outputs": [
        {
          "output_type": "stream",
          "name": "stdout",
          "text": [
            "RMSE: 0.49598387070549127\n",
            "mse : 0.24600000000000147\n"
          ]
        }
      ]
    },
    {
      "cell_type": "code",
      "source": [
        "mae =[]\n",
        "for i in range(len(Y_actual)):\n",
        "  mae.append((Y_actual[i] -y_Pred[i]))\n",
        "MAE = sum(mae) / len(Y_actual)\n",
        "print(\"MAE:\", abs(MAE))\n"
      ],
      "metadata": {
        "colab": {
          "base_uri": "https://localhost:8080/"
        },
        "id": "rhuWa31FRy25",
        "outputId": "feb192fb-f216-43d1-8a88-a8970c822096"
      },
      "execution_count": null,
      "outputs": [
        {
          "output_type": "stream",
          "name": "stdout",
          "text": [
            "MAE: 0.4600000000000016\n"
          ]
        }
      ]
    }
  ]
}