{
  "nbformat": 4,
  "nbformat_minor": 0,
  "metadata": {
    "colab": {
      "provenance": [],
      "authorship_tag": "ABX9TyPwR3bS9rRC3n4AOXZ6puWi",
      "include_colab_link": true
    },
    "kernelspec": {
      "name": "python3",
      "display_name": "Python 3"
    },
    "language_info": {
      "name": "python"
    }
  },
  "cells": [
    {
      "cell_type": "markdown",
      "metadata": {
        "id": "view-in-github",
        "colab_type": "text"
      },
      "source": [
        "<a href=\"https://colab.research.google.com/github/Mounikabethi12/GenerativeAI-2303A52196/blob/main/Genarative_AI_LAB_3.ipynb\" target=\"_parent\"><img src=\"https://colab.research.google.com/assets/colab-badge.svg\" alt=\"Open In Colab\"/></a>"
      ]
    },
    {
      "cell_type": "markdown",
      "source": [
        "#Genarative AI\n",
        "#2303A52196\n",
        "#Assignment-3"
      ],
      "metadata": {
        "id": "cosUZIMyJI0V"
      }
    },
    {
      "cell_type": "markdown",
      "source": [
        "#Question-1"
      ],
      "metadata": {
        "id": "_f__lpquJv4a"
      }
    },
    {
      "cell_type": "code",
      "execution_count": null,
      "metadata": {
        "colab": {
          "base_uri": "https://localhost:8080/"
        },
        "id": "HI6a51ImCDI_",
        "outputId": "1763353b-3f17-420f-fe8e-9e4843792f3b"
      },
      "outputs": [
        {
          "output_type": "stream",
          "name": "stdout",
          "text": [
            "Converged after 1 iterations.\n",
            "The value of x at which f(x) has a minimum is approximately: 0.0\n",
            "The minimum value of f(x) is approximately: 10.0\n"
          ]
        }
      ],
      "source": [
        "def f(x):\n",
        "    return 5 * x**4 + 3 * x**2 + 10\n",
        "\n",
        "def f_derivative(x):\n",
        "    return 20 * x**3 + 6 * x\n",
        "\n",
        "# Gradient Descent Algorithm\n",
        "def gradient_descent(learning_rate, max_iterations, tolerance):\n",
        "    x = 0  # Initial guess\n",
        "    for i in range(max_iterations):\n",
        "        grad = f_derivative(x)\n",
        "        new_x = x - learning_rate * grad\n",
        "\n",
        "        # Check for convergence\n",
        "        if abs(new_x - x) < tolerance:\n",
        "            print(f\"Converged after {i+1} iterations.\")\n",
        "            return new_x\n",
        "\n",
        "        x = new_x\n",
        "\n",
        "    print(\"Maximum iterations reached.\")\n",
        "    return x\n",
        "\n",
        "# Parameters for gradient descent\n",
        "learning_rate = 0.01\n",
        "max_iterations = 10000\n",
        "tolerance = 1e-6\n",
        "\n",
        "# Find the minimum\n",
        "x_min = gradient_descent(learning_rate, max_iterations, tolerance)\n",
        "print(f\"The value of x at which f(x) has a minimum is approximately: {x_min}\")\n",
        "print(f\"The minimum value of f(x) is approximately: {f(x_min)}\")\n"
      ]
    },
    {
      "cell_type": "markdown",
      "source": [
        "#Question-2"
      ],
      "metadata": {
        "id": "IC7aycZNJ0ed"
      }
    },
    {
      "cell_type": "code",
      "source": [
        "# Define the function and its partial derivatives\n",
        "def g(x, y):\n",
        "    return 3 * x**2 + 5 * (2.71828**-y) + 10\n",
        "\n",
        "def g_partial_x(x, y):\n",
        "    return 6 * x\n",
        "\n",
        "def g_partial_y(x, y):\n",
        "    return -5 * (2.71828**-y)\n",
        "\n",
        "# Gradient Descent Algorithm for two variables\n",
        "def gradient_descent_2d(learning_rate, max_iterations, tolerance):\n",
        "    x, y = 0, 0  # Initial guesses\n",
        "    for i in range(max_iterations):\n",
        "        grad_x = g_partial_x(x, y)\n",
        "        grad_y = g_partial_y(x, y)\n",
        "\n",
        "        new_x = x - learning_rate * grad_x\n",
        "        new_y = y - learning_rate * grad_y\n",
        "\n",
        "        # Check for convergence\n",
        "        if abs(new_x - x) < tolerance and abs(new_y - y) < tolerance:\n",
        "            print(f\"Converged after {i+1} iterations.\")\n",
        "            return new_x, new_y\n",
        "\n",
        "        x, y = new_x, new_y\n",
        "\n",
        "    print(\"Maximum iterations reached.\")\n",
        "    return x, y\n",
        "\n",
        "# Parameters for gradient descent\n",
        "learning_rate = 0.01\n",
        "max_iterations = 10000\n",
        "tolerance = 1e-6\n",
        "\n",
        "# Find the minimum\n",
        "x_min, y_min = gradient_descent_2d(learning_rate, max_iterations, tolerance)\n",
        "print(f\"The values of x and y at which g(x, y) has a minimum are approximately: x = {x_min}, y = {y_min}\")\n",
        "print(f\"The minimum value of g(x, y) is approximately: {g(x_min, y_min)}\")\n"
      ],
      "metadata": {
        "colab": {
          "base_uri": "https://localhost:8080/"
        },
        "id": "rD_I8EFxEdGi",
        "outputId": "146fc006-26bf-4b1a-9f7d-15356ac469d2"
      },
      "execution_count": null,
      "outputs": [
        {
          "output_type": "stream",
          "name": "stdout",
          "text": [
            "Maximum iterations reached.\n",
            "The values of x and y at which g(x, y) has a minimum are approximately: x = 0.0, y = 6.216920634657805\n",
            "The minimum value of g(x, y) is approximately: 10.009976943077941\n"
          ]
        }
      ]
    },
    {
      "cell_type": "markdown",
      "source": [
        "#Question-3"
      ],
      "metadata": {
        "id": "p8aDEd7HJ6A3"
      }
    },
    {
      "cell_type": "code",
      "source": [
        "def z(x):\n",
        "    return 1 / (1 + 2.71828**(-x))\n",
        "\n",
        "# Derivative of z(x)\n",
        "def z_prime(x):\n",
        "    sigmoid = z(x)\n",
        "    return sigmoid * (1 - sigmoid)\n",
        "\n",
        "# Gradient Descent Algorithm for z(x)\n",
        "def gradient_descent(alpha, max_iterations, tolerance):\n",
        "    x = 0.0  # Initial guess for x\n",
        "    for i in range(max_iterations):\n",
        "        grad = z_prime(x)  # Compute the derivative at x\n",
        "        new_x = x - alpha * grad  # Update x\n",
        "\n",
        "        # Check for convergence\n",
        "        if abs(new_x - x) < tolerance:\n",
        "            break\n",
        "\n",
        "        x = new_x  # Update x for the next iteration\n",
        "\n",
        "    return x, z(x), i+1\n",
        "\n",
        "# Parameters for Gradient Descent\n",
        "learning_rate = 0.01  # Step size\n",
        "max_iter = 10000      # Maximum number of iterations\n",
        "tolerance = 1e-6      # Convergence criterion\n",
        "\n",
        "# Run Gradient Descent\n",
        "x_min, z_min, iterations = gradient_descent(learning_rate, max_iter, tolerance)\n",
        "\n",
        "# Output Results\n",
        "print(f\"Minimum value of z(x) is approximately at x = {x_min}\")\n",
        "print(f\"Minimum value of z(x) is approximately {z_min}\")\n",
        "print(f\"Number of iterations: {iterations}\")"
      ],
      "metadata": {
        "colab": {
          "base_uri": "https://localhost:8080/"
        },
        "id": "HVraqyP_Ij9e",
        "outputId": "c99362e3-8da9-4091-c7d4-56d262f729a5"
      },
      "execution_count": null,
      "outputs": [
        {
          "output_type": "stream",
          "name": "stdout",
          "text": [
            "Minimum value of z(x) is approximately at x = -4.510915611762466\n",
            "Minimum value of z(x) is approximately 0.010868994644076176\n",
            "Number of iterations: 10000\n"
          ]
        }
      ]
    },
    {
      "cell_type": "markdown",
      "source": [
        "#Question-4"
      ],
      "metadata": {
        "id": "IlCOejnrJ8hf"
      }
    },
    {
      "cell_type": "code",
      "source": [
        "M = 0.0  # Starting value for M\n",
        "C = 0.0  # Starting value for C\n",
        "learning_rate = 0.01  # Step size for gradient descent\n",
        "iterations = 1000  # Number of iterations\n",
        "input_value = 2  # Given input value\n",
        "expected_output = 0.5  # Target output\n",
        "\n",
        "# Gradient Descent\n",
        "for i in range(iterations):\n",
        "    # Calculate the predicted output\n",
        "    predicted_output = M * input_value + C\n",
        "\n",
        "    # Compute the square error\n",
        "    SE = (expected_output - predicted_output) ** 2\n",
        "\n",
        "    # Calculate gradients\n",
        "    dM = -2 * input_value * (expected_output - predicted_output)  # Partial derivative w.r.t M\n",
        "    dC = -2 * (expected_output - predicted_output)               # Partial derivative w.r.t C\n",
        "\n",
        "    # Update parameters\n",
        "    M -= learning_rate * dM\n",
        "    C -= learning_rate * dC\n",
        "\n",
        "    # Print the progress\n",
        "    if i % 100 == 0:\n",
        "        print(f\"Iteration {i}: SE = {SE:.6f}, M = {M:.4f}, C = {C:.4f}\")\n",
        "\n",
        "# Final optimized values\n",
        "print(f\"Optimized M = {M:.4f}, Optimized C = {C:.4f}\")"
      ],
      "metadata": {
        "colab": {
          "base_uri": "https://localhost:8080/"
        },
        "id": "zib2raEDImgl",
        "outputId": "ab1af523-3fbb-4eae-edde-9199ca1ebaf8"
      },
      "execution_count": null,
      "outputs": [
        {
          "output_type": "stream",
          "name": "stdout",
          "text": [
            "Iteration 0: SE = 0.250000, M = 0.0200, C = 0.0100\n",
            "Iteration 100: SE = 0.000000, M = 0.2000, C = 0.1000\n",
            "Iteration 200: SE = 0.000000, M = 0.2000, C = 0.1000\n",
            "Iteration 300: SE = 0.000000, M = 0.2000, C = 0.1000\n",
            "Iteration 400: SE = 0.000000, M = 0.2000, C = 0.1000\n",
            "Iteration 500: SE = 0.000000, M = 0.2000, C = 0.1000\n",
            "Iteration 600: SE = 0.000000, M = 0.2000, C = 0.1000\n",
            "Iteration 700: SE = 0.000000, M = 0.2000, C = 0.1000\n",
            "Iteration 800: SE = 0.000000, M = 0.2000, C = 0.1000\n",
            "Iteration 900: SE = 0.000000, M = 0.2000, C = 0.1000\n",
            "Optimized M = 0.2000, Optimized C = 0.1000\n"
          ]
        }
      ]
    }
  ]
}