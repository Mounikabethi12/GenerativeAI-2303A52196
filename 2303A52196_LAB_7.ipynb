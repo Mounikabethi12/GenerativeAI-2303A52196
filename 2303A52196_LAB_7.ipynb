{
  "nbformat": 4,
  "nbformat_minor": 0,
  "metadata": {
    "colab": {
      "provenance": [],
      "authorship_tag": "ABX9TyNH0lPUqtGHVmy2oDJTr+Hb",
      "include_colab_link": true
    },
    "kernelspec": {
      "name": "python3",
      "display_name": "Python 3"
    },
    "language_info": {
      "name": "python"
    }
  },
  "cells": [
    {
      "cell_type": "markdown",
      "metadata": {
        "id": "view-in-github",
        "colab_type": "text"
      },
      "source": [
        "<a href=\"https://colab.research.google.com/github/Mounikabethi12/GenerativeAI-2303A52196/blob/main/2303A52196_LAB_7.ipynb\" target=\"_parent\"><img src=\"https://colab.research.google.com/assets/colab-badge.svg\" alt=\"Open In Colab\"/></a>"
      ]
    },
    {
      "cell_type": "code",
      "source": [
        "import numpy as np\n",
        "import pandas as pd\n",
        "import tensorflow as tf\n",
        "from tensorflow import keras\n",
        "from tensorflow.keras.models import Sequential\n",
        "from tensorflow.keras.layers import Dense\n",
        "from sklearn.model_selection import train_test_split\n",
        "from sklearn.metrics import confusion_matrix, classification_report, accuracy_score, precision_score, recall_score, f1_score\n",
        "import matplotlib.pyplot as plt\n",
        "import seaborn as sns"
      ],
      "metadata": {
        "id": "NIwpk9j7UyTL"
      },
      "execution_count": null,
      "outputs": []
    },
    {
      "cell_type": "code",
      "source": [
        "data = pd.read_csv('/content/diabetes.csv')\n",
        "\n",
        "\n",
        "print(data.head())\n",
        "\n",
        "\n",
        "X = data.iloc[:, :-1].values\n",
        "y = data.iloc[:, -1].values\n",
        "\n",
        "\n",
        "X_train, X_test, y_train, y_test = train_test_split(X, y, test_size=0.2, random_state=42)\n"
      ],
      "metadata": {
        "colab": {
          "base_uri": "https://localhost:8080/"
        },
        "id": "qNcsFsBBVHzw",
        "outputId": "8a80244a-3463-4ee1-f012-555cee481eb9"
      },
      "execution_count": null,
      "outputs": [
        {
          "output_type": "stream",
          "name": "stdout",
          "text": [
            "   Pregnancies  Glucose  BloodPressure  SkinThickness  Insulin   BMI  \\\n",
            "0            6      148             72             35        0  33.6   \n",
            "1            1       85             66             29        0  26.6   \n",
            "2            8      183             64              0        0  23.3   \n",
            "3            1       89             66             23       94  28.1   \n",
            "4            0      137             40             35      168  43.1   \n",
            "\n",
            "   DiabetesPedigreeFunction  Age  Outcome  \n",
            "0                     0.627   50        1  \n",
            "1                     0.351   31        0  \n",
            "2                     0.672   32        1  \n",
            "3                     0.167   21        0  \n",
            "4                     2.288   33        1  \n"
          ]
        }
      ]
    },
    {
      "cell_type": "code",
      "source": [
        "model = Sequential([\n",
        "    Dense(8, activation='relu', input_shape=(X_train.shape[1],)),  # Hidden Layer 1\n",
        "    Dense(16, activation='relu'),                                    # Hidden Layer 2\n",
        "    Dense(20, activation='relu'),                                    # Hidden Layer 3\n",
        "    Dense(10, activation='relu'),                                    # Hidden Layer 4\n",
        "    Dense(1, activation='sigmoid')                                   # Output Layer (binary classification)\n",
        "])\n"
      ],
      "metadata": {
        "colab": {
          "base_uri": "https://localhost:8080/"
        },
        "id": "YRxRtdX6VmOW",
        "outputId": "376af969-0201-4eea-edc4-aa7c5d7edd10"
      },
      "execution_count": null,
      "outputs": [
        {
          "output_type": "stream",
          "name": "stderr",
          "text": [
            "/usr/local/lib/python3.11/dist-packages/keras/src/layers/core/dense.py:87: UserWarning: Do not pass an `input_shape`/`input_dim` argument to a layer. When using Sequential models, prefer using an `Input(shape)` object as the first layer in the model instead.\n",
            "  super().__init__(activity_regularizer=activity_regularizer, **kwargs)\n"
          ]
        }
      ]
    },
    {
      "cell_type": "code",
      "source": [
        "model.compile(optimizer='adadelta', loss='binary_crossentropy', metrics=['accuracy'])\n",
        "\n",
        "\n",
        "history = model.fit(X_train, y_train, batch_size=64, epochs=150, validation_split=0.2)\n",
        "\n"
      ],
      "metadata": {
        "colab": {
          "base_uri": "https://localhost:8080/"
        },
        "id": "NT8kZyX2YJ_R",
        "outputId": "712531b5-7a6c-4876-c6a9-a1acde84b1d7"
      },
      "execution_count": null,
      "outputs": [
        {
          "output_type": "stream",
          "name": "stdout",
          "text": [
            "Epoch 1/150\n",
            "\u001b[1m8/8\u001b[0m \u001b[32m━━━━━━━━━━━━━━━━━━━━\u001b[0m\u001b[37m\u001b[0m \u001b[1m2s\u001b[0m 39ms/step - accuracy: 0.6483 - loss: 2.7036 - val_accuracy: 0.6098 - val_loss: 2.9019\n",
            "Epoch 2/150\n",
            "\u001b[1m8/8\u001b[0m \u001b[32m━━━━━━━━━━━━━━━━━━━━\u001b[0m\u001b[37m\u001b[0m \u001b[1m0s\u001b[0m 12ms/step - accuracy: 0.6663 - loss: 2.7197 - val_accuracy: 0.6098 - val_loss: 2.8941\n",
            "Epoch 3/150\n",
            "\u001b[1m8/8\u001b[0m \u001b[32m━━━━━━━━━━━━━━━━━━━━\u001b[0m\u001b[37m\u001b[0m \u001b[1m0s\u001b[0m 12ms/step - accuracy: 0.6528 - loss: 2.7081 - val_accuracy: 0.6098 - val_loss: 2.8863\n",
            "Epoch 4/150\n",
            "\u001b[1m8/8\u001b[0m \u001b[32m━━━━━━━━━━━━━━━━━━━━\u001b[0m\u001b[37m\u001b[0m \u001b[1m0s\u001b[0m 12ms/step - accuracy: 0.6692 - loss: 2.6069 - val_accuracy: 0.6098 - val_loss: 2.8783\n",
            "Epoch 5/150\n",
            "\u001b[1m8/8\u001b[0m \u001b[32m━━━━━━━━━━━━━━━━━━━━\u001b[0m\u001b[37m\u001b[0m \u001b[1m0s\u001b[0m 12ms/step - accuracy: 0.6882 - loss: 2.4087 - val_accuracy: 0.6098 - val_loss: 2.8703\n",
            "Epoch 6/150\n",
            "\u001b[1m8/8\u001b[0m \u001b[32m━━━━━━━━━━━━━━━━━━━━\u001b[0m\u001b[37m\u001b[0m \u001b[1m0s\u001b[0m 12ms/step - accuracy: 0.6474 - loss: 2.6986 - val_accuracy: 0.6098 - val_loss: 2.8624\n",
            "Epoch 7/150\n",
            "\u001b[1m8/8\u001b[0m \u001b[32m━━━━━━━━━━━━━━━━━━━━\u001b[0m\u001b[37m\u001b[0m \u001b[1m0s\u001b[0m 12ms/step - accuracy: 0.6642 - loss: 2.6524 - val_accuracy: 0.6098 - val_loss: 2.8542\n",
            "Epoch 8/150\n",
            "\u001b[1m8/8\u001b[0m \u001b[32m━━━━━━━━━━━━━━━━━━━━\u001b[0m\u001b[37m\u001b[0m \u001b[1m0s\u001b[0m 11ms/step - accuracy: 0.6586 - loss: 2.6105 - val_accuracy: 0.6098 - val_loss: 2.8462\n",
            "Epoch 9/150\n",
            "\u001b[1m8/8\u001b[0m \u001b[32m━━━━━━━━━━━━━━━━━━━━\u001b[0m\u001b[37m\u001b[0m \u001b[1m0s\u001b[0m 14ms/step - accuracy: 0.6354 - loss: 2.7074 - val_accuracy: 0.6098 - val_loss: 2.8382\n",
            "Epoch 10/150\n",
            "\u001b[1m8/8\u001b[0m \u001b[32m━━━━━━━━━━━━━━━━━━━━\u001b[0m\u001b[37m\u001b[0m \u001b[1m0s\u001b[0m 12ms/step - accuracy: 0.6796 - loss: 2.6463 - val_accuracy: 0.6098 - val_loss: 2.8301\n",
            "Epoch 11/150\n",
            "\u001b[1m8/8\u001b[0m \u001b[32m━━━━━━━━━━━━━━━━━━━━\u001b[0m\u001b[37m\u001b[0m \u001b[1m0s\u001b[0m 12ms/step - accuracy: 0.6553 - loss: 2.5790 - val_accuracy: 0.6098 - val_loss: 2.8218\n",
            "Epoch 12/150\n",
            "\u001b[1m8/8\u001b[0m \u001b[32m━━━━━━━━━━━━━━━━━━━━\u001b[0m\u001b[37m\u001b[0m \u001b[1m0s\u001b[0m 12ms/step - accuracy: 0.6534 - loss: 2.7411 - val_accuracy: 0.6098 - val_loss: 2.8136\n",
            "Epoch 13/150\n",
            "\u001b[1m8/8\u001b[0m \u001b[32m━━━━━━━━━━━━━━━━━━━━\u001b[0m\u001b[37m\u001b[0m \u001b[1m0s\u001b[0m 14ms/step - accuracy: 0.6628 - loss: 2.6818 - val_accuracy: 0.6098 - val_loss: 2.8053\n",
            "Epoch 14/150\n",
            "\u001b[1m8/8\u001b[0m \u001b[32m━━━━━━━━━━━━━━━━━━━━\u001b[0m\u001b[37m\u001b[0m \u001b[1m0s\u001b[0m 17ms/step - accuracy: 0.6356 - loss: 2.7380 - val_accuracy: 0.6098 - val_loss: 2.7971\n",
            "Epoch 15/150\n",
            "\u001b[1m8/8\u001b[0m \u001b[32m━━━━━━━━━━━━━━━━━━━━\u001b[0m\u001b[37m\u001b[0m \u001b[1m0s\u001b[0m 11ms/step - accuracy: 0.6680 - loss: 2.4071 - val_accuracy: 0.6098 - val_loss: 2.7887\n",
            "Epoch 16/150\n",
            "\u001b[1m8/8\u001b[0m \u001b[32m━━━━━━━━━━━━━━━━━━━━\u001b[0m\u001b[37m\u001b[0m \u001b[1m0s\u001b[0m 13ms/step - accuracy: 0.6571 - loss: 2.6210 - val_accuracy: 0.6098 - val_loss: 2.7803\n",
            "Epoch 17/150\n",
            "\u001b[1m8/8\u001b[0m \u001b[32m━━━━━━━━━━━━━━━━━━━━\u001b[0m\u001b[37m\u001b[0m \u001b[1m0s\u001b[0m 18ms/step - accuracy: 0.6854 - loss: 2.3039 - val_accuracy: 0.6098 - val_loss: 2.7719\n",
            "Epoch 18/150\n",
            "\u001b[1m8/8\u001b[0m \u001b[32m━━━━━━━━━━━━━━━━━━━━\u001b[0m\u001b[37m\u001b[0m \u001b[1m0s\u001b[0m 12ms/step - accuracy: 0.6693 - loss: 2.4185 - val_accuracy: 0.6098 - val_loss: 2.7634\n",
            "Epoch 19/150\n",
            "\u001b[1m8/8\u001b[0m \u001b[32m━━━━━━━━━━━━━━━━━━━━\u001b[0m\u001b[37m\u001b[0m \u001b[1m0s\u001b[0m 12ms/step - accuracy: 0.6717 - loss: 2.5157 - val_accuracy: 0.6098 - val_loss: 2.7549\n",
            "Epoch 20/150\n",
            "\u001b[1m8/8\u001b[0m \u001b[32m━━━━━━━━━━━━━━━━━━━━\u001b[0m\u001b[37m\u001b[0m \u001b[1m0s\u001b[0m 13ms/step - accuracy: 0.6486 - loss: 2.6116 - val_accuracy: 0.6098 - val_loss: 2.7463\n",
            "Epoch 21/150\n",
            "\u001b[1m8/8\u001b[0m \u001b[32m━━━━━━━━━━━━━━━━━━━━\u001b[0m\u001b[37m\u001b[0m \u001b[1m0s\u001b[0m 18ms/step - accuracy: 0.6620 - loss: 2.6791 - val_accuracy: 0.6098 - val_loss: 2.7378\n",
            "Epoch 22/150\n",
            "\u001b[1m8/8\u001b[0m \u001b[32m━━━━━━━━━━━━━━━━━━━━\u001b[0m\u001b[37m\u001b[0m \u001b[1m0s\u001b[0m 12ms/step - accuracy: 0.6400 - loss: 2.6259 - val_accuracy: 0.6098 - val_loss: 2.7293\n",
            "Epoch 23/150\n",
            "\u001b[1m8/8\u001b[0m \u001b[32m━━━━━━━━━━━━━━━━━━━━\u001b[0m\u001b[37m\u001b[0m \u001b[1m0s\u001b[0m 13ms/step - accuracy: 0.6693 - loss: 2.4683 - val_accuracy: 0.6098 - val_loss: 2.7206\n",
            "Epoch 24/150\n",
            "\u001b[1m8/8\u001b[0m \u001b[32m━━━━━━━━━━━━━━━━━━━━\u001b[0m\u001b[37m\u001b[0m \u001b[1m0s\u001b[0m 17ms/step - accuracy: 0.6401 - loss: 2.5501 - val_accuracy: 0.6098 - val_loss: 2.7120\n",
            "Epoch 25/150\n",
            "\u001b[1m8/8\u001b[0m \u001b[32m━━━━━━━━━━━━━━━━━━━━\u001b[0m\u001b[37m\u001b[0m \u001b[1m0s\u001b[0m 19ms/step - accuracy: 0.6580 - loss: 2.5307 - val_accuracy: 0.6098 - val_loss: 2.7033\n",
            "Epoch 26/150\n",
            "\u001b[1m8/8\u001b[0m \u001b[32m━━━━━━━━━━━━━━━━━━━━\u001b[0m\u001b[37m\u001b[0m \u001b[1m0s\u001b[0m 22ms/step - accuracy: 0.6786 - loss: 2.2846 - val_accuracy: 0.6098 - val_loss: 2.6945\n",
            "Epoch 27/150\n",
            "\u001b[1m8/8\u001b[0m \u001b[32m━━━━━━━━━━━━━━━━━━━━\u001b[0m\u001b[37m\u001b[0m \u001b[1m0s\u001b[0m 21ms/step - accuracy: 0.6650 - loss: 2.4310 - val_accuracy: 0.6098 - val_loss: 2.6857\n",
            "Epoch 28/150\n",
            "\u001b[1m8/8\u001b[0m \u001b[32m━━━━━━━━━━━━━━━━━━━━\u001b[0m\u001b[37m\u001b[0m \u001b[1m0s\u001b[0m 21ms/step - accuracy: 0.6773 - loss: 2.4199 - val_accuracy: 0.6098 - val_loss: 2.6768\n",
            "Epoch 29/150\n",
            "\u001b[1m8/8\u001b[0m \u001b[32m━━━━━━━━━━━━━━━━━━━━\u001b[0m\u001b[37m\u001b[0m \u001b[1m0s\u001b[0m 20ms/step - accuracy: 0.6416 - loss: 2.6131 - val_accuracy: 0.6098 - val_loss: 2.6681\n",
            "Epoch 30/150\n",
            "\u001b[1m8/8\u001b[0m \u001b[32m━━━━━━━━━━━━━━━━━━━━\u001b[0m\u001b[37m\u001b[0m \u001b[1m0s\u001b[0m 20ms/step - accuracy: 0.6683 - loss: 2.4882 - val_accuracy: 0.6098 - val_loss: 2.6594\n",
            "Epoch 31/150\n",
            "\u001b[1m8/8\u001b[0m \u001b[32m━━━━━━━━━━━━━━━━━━━━\u001b[0m\u001b[37m\u001b[0m \u001b[1m0s\u001b[0m 18ms/step - accuracy: 0.6703 - loss: 2.4100 - val_accuracy: 0.6098 - val_loss: 2.6505\n",
            "Epoch 32/150\n",
            "\u001b[1m8/8\u001b[0m \u001b[32m━━━━━━━━━━━━━━━━━━━━\u001b[0m\u001b[37m\u001b[0m \u001b[1m0s\u001b[0m 21ms/step - accuracy: 0.6709 - loss: 2.3403 - val_accuracy: 0.6098 - val_loss: 2.6415\n",
            "Epoch 33/150\n",
            "\u001b[1m8/8\u001b[0m \u001b[32m━━━━━━━━━━━━━━━━━━━━\u001b[0m\u001b[37m\u001b[0m \u001b[1m0s\u001b[0m 18ms/step - accuracy: 0.6432 - loss: 2.6079 - val_accuracy: 0.6098 - val_loss: 2.6327\n",
            "Epoch 34/150\n",
            "\u001b[1m8/8\u001b[0m \u001b[32m━━━━━━━━━━━━━━━━━━━━\u001b[0m\u001b[37m\u001b[0m \u001b[1m0s\u001b[0m 12ms/step - accuracy: 0.6873 - loss: 2.1864 - val_accuracy: 0.6098 - val_loss: 2.6236\n",
            "Epoch 35/150\n",
            "\u001b[1m8/8\u001b[0m \u001b[32m━━━━━━━━━━━━━━━━━━━━\u001b[0m\u001b[37m\u001b[0m \u001b[1m0s\u001b[0m 13ms/step - accuracy: 0.6843 - loss: 2.2420 - val_accuracy: 0.6098 - val_loss: 2.6146\n",
            "Epoch 36/150\n",
            "\u001b[1m8/8\u001b[0m \u001b[32m━━━━━━━━━━━━━━━━━━━━\u001b[0m\u001b[37m\u001b[0m \u001b[1m0s\u001b[0m 11ms/step - accuracy: 0.6699 - loss: 2.3482 - val_accuracy: 0.6098 - val_loss: 2.6055\n",
            "Epoch 37/150\n",
            "\u001b[1m8/8\u001b[0m \u001b[32m━━━━━━━━━━━━━━━━━━━━\u001b[0m\u001b[37m\u001b[0m \u001b[1m0s\u001b[0m 13ms/step - accuracy: 0.6963 - loss: 2.0405 - val_accuracy: 0.6098 - val_loss: 2.5963\n",
            "Epoch 38/150\n",
            "\u001b[1m8/8\u001b[0m \u001b[32m━━━━━━━━━━━━━━━━━━━━\u001b[0m\u001b[37m\u001b[0m \u001b[1m0s\u001b[0m 17ms/step - accuracy: 0.6563 - loss: 2.6130 - val_accuracy: 0.6098 - val_loss: 2.5871\n",
            "Epoch 39/150\n",
            "\u001b[1m8/8\u001b[0m \u001b[32m━━━━━━━━━━━━━━━━━━━━\u001b[0m\u001b[37m\u001b[0m \u001b[1m0s\u001b[0m 12ms/step - accuracy: 0.6769 - loss: 2.3337 - val_accuracy: 0.6098 - val_loss: 2.5779\n",
            "Epoch 40/150\n",
            "\u001b[1m8/8\u001b[0m \u001b[32m━━━━━━━━━━━━━━━━━━━━\u001b[0m\u001b[37m\u001b[0m \u001b[1m0s\u001b[0m 12ms/step - accuracy: 0.6805 - loss: 2.1636 - val_accuracy: 0.6098 - val_loss: 2.5686\n",
            "Epoch 41/150\n",
            "\u001b[1m8/8\u001b[0m \u001b[32m━━━━━━━━━━━━━━━━━━━━\u001b[0m\u001b[37m\u001b[0m \u001b[1m0s\u001b[0m 11ms/step - accuracy: 0.6893 - loss: 2.2007 - val_accuracy: 0.6098 - val_loss: 2.5593\n",
            "Epoch 42/150\n",
            "\u001b[1m8/8\u001b[0m \u001b[32m━━━━━━━━━━━━━━━━━━━━\u001b[0m\u001b[37m\u001b[0m \u001b[1m0s\u001b[0m 12ms/step - accuracy: 0.6582 - loss: 2.3991 - val_accuracy: 0.6098 - val_loss: 2.5501\n",
            "Epoch 43/150\n",
            "\u001b[1m8/8\u001b[0m \u001b[32m━━━━━━━━━━━━━━━━━━━━\u001b[0m\u001b[37m\u001b[0m \u001b[1m0s\u001b[0m 17ms/step - accuracy: 0.6593 - loss: 2.3410 - val_accuracy: 0.6098 - val_loss: 2.5408\n",
            "Epoch 44/150\n",
            "\u001b[1m8/8\u001b[0m \u001b[32m━━━━━━━━━━━━━━━━━━━━\u001b[0m\u001b[37m\u001b[0m \u001b[1m0s\u001b[0m 12ms/step - accuracy: 0.6725 - loss: 2.2527 - val_accuracy: 0.6098 - val_loss: 2.5314\n",
            "Epoch 45/150\n",
            "\u001b[1m8/8\u001b[0m \u001b[32m━━━━━━━━━━━━━━━━━━━━\u001b[0m\u001b[37m\u001b[0m \u001b[1m0s\u001b[0m 12ms/step - accuracy: 0.6484 - loss: 2.2892 - val_accuracy: 0.6098 - val_loss: 2.5221\n",
            "Epoch 46/150\n",
            "\u001b[1m8/8\u001b[0m \u001b[32m━━━━━━━━━━━━━━━━━━━━\u001b[0m\u001b[37m\u001b[0m \u001b[1m0s\u001b[0m 12ms/step - accuracy: 0.6764 - loss: 2.1767 - val_accuracy: 0.6098 - val_loss: 2.5127\n",
            "Epoch 47/150\n",
            "\u001b[1m8/8\u001b[0m \u001b[32m━━━━━━━━━━━━━━━━━━━━\u001b[0m\u001b[37m\u001b[0m \u001b[1m0s\u001b[0m 12ms/step - accuracy: 0.6554 - loss: 2.3879 - val_accuracy: 0.6098 - val_loss: 2.5034\n",
            "Epoch 48/150\n",
            "\u001b[1m8/8\u001b[0m \u001b[32m━━━━━━━━━━━━━━━━━━━━\u001b[0m\u001b[37m\u001b[0m \u001b[1m0s\u001b[0m 12ms/step - accuracy: 0.6640 - loss: 2.3777 - val_accuracy: 0.6098 - val_loss: 2.4938\n",
            "Epoch 49/150\n",
            "\u001b[1m8/8\u001b[0m \u001b[32m━━━━━━━━━━━━━━━━━━━━\u001b[0m\u001b[37m\u001b[0m \u001b[1m0s\u001b[0m 12ms/step - accuracy: 0.6830 - loss: 2.1498 - val_accuracy: 0.6098 - val_loss: 2.4842\n",
            "Epoch 50/150\n",
            "\u001b[1m8/8\u001b[0m \u001b[32m━━━━━━━━━━━━━━━━━━━━\u001b[0m\u001b[37m\u001b[0m \u001b[1m0s\u001b[0m 12ms/step - accuracy: 0.6596 - loss: 2.2144 - val_accuracy: 0.6098 - val_loss: 2.4745\n",
            "Epoch 51/150\n",
            "\u001b[1m8/8\u001b[0m \u001b[32m━━━━━━━━━━━━━━━━━━━━\u001b[0m\u001b[37m\u001b[0m \u001b[1m0s\u001b[0m 17ms/step - accuracy: 0.6623 - loss: 2.4031 - val_accuracy: 0.6098 - val_loss: 2.4650\n",
            "Epoch 52/150\n",
            "\u001b[1m8/8\u001b[0m \u001b[32m━━━━━━━━━━━━━━━━━━━━\u001b[0m\u001b[37m\u001b[0m \u001b[1m0s\u001b[0m 11ms/step - accuracy: 0.6672 - loss: 2.1900 - val_accuracy: 0.6098 - val_loss: 2.4554\n",
            "Epoch 53/150\n",
            "\u001b[1m8/8\u001b[0m \u001b[32m━━━━━━━━━━━━━━━━━━━━\u001b[0m\u001b[37m\u001b[0m \u001b[1m0s\u001b[0m 11ms/step - accuracy: 0.6266 - loss: 2.5330 - val_accuracy: 0.6098 - val_loss: 2.4457\n",
            "Epoch 54/150\n",
            "\u001b[1m8/8\u001b[0m \u001b[32m━━━━━━━━━━━━━━━━━━━━\u001b[0m\u001b[37m\u001b[0m \u001b[1m0s\u001b[0m 11ms/step - accuracy: 0.6589 - loss: 2.4110 - val_accuracy: 0.6098 - val_loss: 2.4360\n",
            "Epoch 55/150\n",
            "\u001b[1m8/8\u001b[0m \u001b[32m━━━━━━━━━━━━━━━━━━━━\u001b[0m\u001b[37m\u001b[0m \u001b[1m0s\u001b[0m 11ms/step - accuracy: 0.6737 - loss: 2.1028 - val_accuracy: 0.6098 - val_loss: 2.4262\n",
            "Epoch 56/150\n",
            "\u001b[1m8/8\u001b[0m \u001b[32m━━━━━━━━━━━━━━━━━━━━\u001b[0m\u001b[37m\u001b[0m \u001b[1m0s\u001b[0m 11ms/step - accuracy: 0.6549 - loss: 2.3292 - val_accuracy: 0.6098 - val_loss: 2.4165\n",
            "Epoch 57/150\n",
            "\u001b[1m8/8\u001b[0m \u001b[32m━━━━━━━━━━━━━━━━━━━━\u001b[0m\u001b[37m\u001b[0m \u001b[1m0s\u001b[0m 12ms/step - accuracy: 0.6520 - loss: 2.3317 - val_accuracy: 0.6098 - val_loss: 2.4067\n",
            "Epoch 58/150\n",
            "\u001b[1m8/8\u001b[0m \u001b[32m━━━━━━━━━━━━━━━━━━━━\u001b[0m\u001b[37m\u001b[0m \u001b[1m0s\u001b[0m 14ms/step - accuracy: 0.6562 - loss: 2.2724 - val_accuracy: 0.6098 - val_loss: 2.3968\n",
            "Epoch 59/150\n",
            "\u001b[1m8/8\u001b[0m \u001b[32m━━━━━━━━━━━━━━━━━━━━\u001b[0m\u001b[37m\u001b[0m \u001b[1m0s\u001b[0m 17ms/step - accuracy: 0.6608 - loss: 2.2109 - val_accuracy: 0.6098 - val_loss: 2.3871\n",
            "Epoch 60/150\n",
            "\u001b[1m8/8\u001b[0m \u001b[32m━━━━━━━━━━━━━━━━━━━━\u001b[0m\u001b[37m\u001b[0m \u001b[1m0s\u001b[0m 11ms/step - accuracy: 0.6722 - loss: 2.1671 - val_accuracy: 0.6098 - val_loss: 2.3771\n",
            "Epoch 61/150\n",
            "\u001b[1m8/8\u001b[0m \u001b[32m━━━━━━━━━━━━━━━━━━━━\u001b[0m\u001b[37m\u001b[0m \u001b[1m0s\u001b[0m 11ms/step - accuracy: 0.6825 - loss: 1.9869 - val_accuracy: 0.6098 - val_loss: 2.3672\n",
            "Epoch 62/150\n",
            "\u001b[1m8/8\u001b[0m \u001b[32m━━━━━━━━━━━━━━━━━━━━\u001b[0m\u001b[37m\u001b[0m \u001b[1m0s\u001b[0m 11ms/step - accuracy: 0.6500 - loss: 2.2902 - val_accuracy: 0.6098 - val_loss: 2.3574\n",
            "Epoch 63/150\n",
            "\u001b[1m8/8\u001b[0m \u001b[32m━━━━━━━━━━━━━━━━━━━━\u001b[0m\u001b[37m\u001b[0m \u001b[1m0s\u001b[0m 12ms/step - accuracy: 0.6675 - loss: 2.1360 - val_accuracy: 0.6098 - val_loss: 2.3475\n",
            "Epoch 64/150\n",
            "\u001b[1m8/8\u001b[0m \u001b[32m━━━━━━━━━━━━━━━━━━━━\u001b[0m\u001b[37m\u001b[0m \u001b[1m0s\u001b[0m 17ms/step - accuracy: 0.6420 - loss: 2.1982 - val_accuracy: 0.6098 - val_loss: 2.3378\n",
            "Epoch 65/150\n",
            "\u001b[1m8/8\u001b[0m \u001b[32m━━━━━━━━━━━━━━━━━━━━\u001b[0m\u001b[37m\u001b[0m \u001b[1m0s\u001b[0m 12ms/step - accuracy: 0.6615 - loss: 2.0453 - val_accuracy: 0.6098 - val_loss: 2.3280\n",
            "Epoch 66/150\n",
            "\u001b[1m8/8\u001b[0m \u001b[32m━━━━━━━━━━━━━━━━━━━━\u001b[0m\u001b[37m\u001b[0m \u001b[1m0s\u001b[0m 17ms/step - accuracy: 0.6642 - loss: 2.0262 - val_accuracy: 0.6098 - val_loss: 2.3182\n",
            "Epoch 67/150\n",
            "\u001b[1m8/8\u001b[0m \u001b[32m━━━━━━━━━━━━━━━━━━━━\u001b[0m\u001b[37m\u001b[0m \u001b[1m0s\u001b[0m 17ms/step - accuracy: 0.6772 - loss: 2.0120 - val_accuracy: 0.6098 - val_loss: 2.3083\n",
            "Epoch 68/150\n",
            "\u001b[1m8/8\u001b[0m \u001b[32m━━━━━━━━━━━━━━━━━━━━\u001b[0m\u001b[37m\u001b[0m \u001b[1m0s\u001b[0m 12ms/step - accuracy: 0.6508 - loss: 2.0471 - val_accuracy: 0.6098 - val_loss: 2.2984\n",
            "Epoch 69/150\n",
            "\u001b[1m8/8\u001b[0m \u001b[32m━━━━━━━━━━━━━━━━━━━━\u001b[0m\u001b[37m\u001b[0m \u001b[1m0s\u001b[0m 12ms/step - accuracy: 0.6705 - loss: 1.9861 - val_accuracy: 0.6098 - val_loss: 2.2884\n",
            "Epoch 70/150\n",
            "\u001b[1m8/8\u001b[0m \u001b[32m━━━━━━━━━━━━━━━━━━━━\u001b[0m\u001b[37m\u001b[0m \u001b[1m0s\u001b[0m 12ms/step - accuracy: 0.6690 - loss: 2.3130 - val_accuracy: 0.6098 - val_loss: 2.2787\n",
            "Epoch 71/150\n",
            "\u001b[1m8/8\u001b[0m \u001b[32m━━━━━━━━━━━━━━━━━━━━\u001b[0m\u001b[37m\u001b[0m \u001b[1m0s\u001b[0m 11ms/step - accuracy: 0.6626 - loss: 2.1554 - val_accuracy: 0.6098 - val_loss: 2.2690\n",
            "Epoch 72/150\n",
            "\u001b[1m8/8\u001b[0m \u001b[32m━━━━━━━━━━━━━━━━━━━━\u001b[0m\u001b[37m\u001b[0m \u001b[1m0s\u001b[0m 14ms/step - accuracy: 0.6641 - loss: 2.0969 - val_accuracy: 0.6098 - val_loss: 2.2592\n",
            "Epoch 73/150\n",
            "\u001b[1m8/8\u001b[0m \u001b[32m━━━━━━━━━━━━━━━━━━━━\u001b[0m\u001b[37m\u001b[0m \u001b[1m0s\u001b[0m 11ms/step - accuracy: 0.6276 - loss: 2.3003 - val_accuracy: 0.6098 - val_loss: 2.2494\n",
            "Epoch 74/150\n",
            "\u001b[1m8/8\u001b[0m \u001b[32m━━━━━━━━━━━━━━━━━━━━\u001b[0m\u001b[37m\u001b[0m \u001b[1m0s\u001b[0m 11ms/step - accuracy: 0.6424 - loss: 2.1968 - val_accuracy: 0.6098 - val_loss: 2.2394\n",
            "Epoch 75/150\n",
            "\u001b[1m8/8\u001b[0m \u001b[32m━━━━━━━━━━━━━━━━━━━━\u001b[0m\u001b[37m\u001b[0m \u001b[1m0s\u001b[0m 11ms/step - accuracy: 0.6850 - loss: 2.0373 - val_accuracy: 0.6098 - val_loss: 2.2294\n",
            "Epoch 76/150\n",
            "\u001b[1m8/8\u001b[0m \u001b[32m━━━━━━━━━━━━━━━━━━━━\u001b[0m\u001b[37m\u001b[0m \u001b[1m0s\u001b[0m 12ms/step - accuracy: 0.6712 - loss: 1.9559 - val_accuracy: 0.6098 - val_loss: 2.2194\n",
            "Epoch 77/150\n",
            "\u001b[1m8/8\u001b[0m \u001b[32m━━━━━━━━━━━━━━━━━━━━\u001b[0m\u001b[37m\u001b[0m \u001b[1m0s\u001b[0m 12ms/step - accuracy: 0.6570 - loss: 2.1788 - val_accuracy: 0.6098 - val_loss: 2.2095\n",
            "Epoch 78/150\n",
            "\u001b[1m8/8\u001b[0m \u001b[32m━━━━━━━━━━━━━━━━━━━━\u001b[0m\u001b[37m\u001b[0m \u001b[1m0s\u001b[0m 12ms/step - accuracy: 0.6610 - loss: 1.9989 - val_accuracy: 0.6098 - val_loss: 2.1996\n",
            "Epoch 79/150\n",
            "\u001b[1m8/8\u001b[0m \u001b[32m━━━━━━━━━━━━━━━━━━━━\u001b[0m\u001b[37m\u001b[0m \u001b[1m0s\u001b[0m 14ms/step - accuracy: 0.6703 - loss: 1.9168 - val_accuracy: 0.6098 - val_loss: 2.1896\n",
            "Epoch 80/150\n",
            "\u001b[1m8/8\u001b[0m \u001b[32m━━━━━━━━━━━━━━━━━━━━\u001b[0m\u001b[37m\u001b[0m \u001b[1m0s\u001b[0m 13ms/step - accuracy: 0.6990 - loss: 1.7919 - val_accuracy: 0.6098 - val_loss: 2.1796\n",
            "Epoch 81/150\n",
            "\u001b[1m8/8\u001b[0m \u001b[32m━━━━━━━━━━━━━━━━━━━━\u001b[0m\u001b[37m\u001b[0m \u001b[1m0s\u001b[0m 11ms/step - accuracy: 0.6707 - loss: 1.8813 - val_accuracy: 0.6098 - val_loss: 2.1694\n",
            "Epoch 82/150\n",
            "\u001b[1m8/8\u001b[0m \u001b[32m━━━━━━━━━━━━━━━━━━━━\u001b[0m\u001b[37m\u001b[0m \u001b[1m0s\u001b[0m 11ms/step - accuracy: 0.6550 - loss: 1.9908 - val_accuracy: 0.6098 - val_loss: 2.1594\n",
            "Epoch 83/150\n",
            "\u001b[1m8/8\u001b[0m \u001b[32m━━━━━━━━━━━━━━━━━━━━\u001b[0m\u001b[37m\u001b[0m \u001b[1m0s\u001b[0m 12ms/step - accuracy: 0.6816 - loss: 1.9117 - val_accuracy: 0.6098 - val_loss: 2.1492\n",
            "Epoch 84/150\n",
            "\u001b[1m8/8\u001b[0m \u001b[32m━━━━━━━━━━━━━━━━━━━━\u001b[0m\u001b[37m\u001b[0m \u001b[1m0s\u001b[0m 12ms/step - accuracy: 0.6684 - loss: 1.7734 - val_accuracy: 0.6098 - val_loss: 2.1391\n",
            "Epoch 85/150\n",
            "\u001b[1m8/8\u001b[0m \u001b[32m━━━━━━━━━━━━━━━━━━━━\u001b[0m\u001b[37m\u001b[0m \u001b[1m0s\u001b[0m 11ms/step - accuracy: 0.6701 - loss: 1.9922 - val_accuracy: 0.6098 - val_loss: 2.1290\n",
            "Epoch 86/150\n",
            "\u001b[1m8/8\u001b[0m \u001b[32m━━━━━━━━━━━━━━━━━━━━\u001b[0m\u001b[37m\u001b[0m \u001b[1m0s\u001b[0m 12ms/step - accuracy: 0.6289 - loss: 2.1057 - val_accuracy: 0.6098 - val_loss: 2.1192\n",
            "Epoch 87/150\n",
            "\u001b[1m8/8\u001b[0m \u001b[32m━━━━━━━━━━━━━━━━━━━━\u001b[0m\u001b[37m\u001b[0m \u001b[1m0s\u001b[0m 13ms/step - accuracy: 0.6637 - loss: 1.8813 - val_accuracy: 0.6098 - val_loss: 2.1092\n",
            "Epoch 88/150\n",
            "\u001b[1m8/8\u001b[0m \u001b[32m━━━━━━━━━━━━━━━━━━━━\u001b[0m\u001b[37m\u001b[0m \u001b[1m0s\u001b[0m 13ms/step - accuracy: 0.6702 - loss: 1.8403 - val_accuracy: 0.6098 - val_loss: 2.0991\n",
            "Epoch 89/150\n",
            "\u001b[1m8/8\u001b[0m \u001b[32m━━━━━━━━━━━━━━━━━━━━\u001b[0m\u001b[37m\u001b[0m \u001b[1m0s\u001b[0m 12ms/step - accuracy: 0.6646 - loss: 2.0485 - val_accuracy: 0.6098 - val_loss: 2.0890\n",
            "Epoch 90/150\n",
            "\u001b[1m8/8\u001b[0m \u001b[32m━━━━━━━━━━━━━━━━━━━━\u001b[0m\u001b[37m\u001b[0m \u001b[1m0s\u001b[0m 12ms/step - accuracy: 0.6967 - loss: 1.8618 - val_accuracy: 0.6098 - val_loss: 2.0790\n",
            "Epoch 91/150\n",
            "\u001b[1m8/8\u001b[0m \u001b[32m━━━━━━━━━━━━━━━━━━━━\u001b[0m\u001b[37m\u001b[0m \u001b[1m0s\u001b[0m 11ms/step - accuracy: 0.6790 - loss: 1.8609 - val_accuracy: 0.6098 - val_loss: 2.0689\n",
            "Epoch 92/150\n",
            "\u001b[1m8/8\u001b[0m \u001b[32m━━━━━━━━━━━━━━━━━━━━\u001b[0m\u001b[37m\u001b[0m \u001b[1m0s\u001b[0m 11ms/step - accuracy: 0.6568 - loss: 1.8699 - val_accuracy: 0.6098 - val_loss: 2.0587\n",
            "Epoch 93/150\n",
            "\u001b[1m8/8\u001b[0m \u001b[32m━━━━━━━━━━━━━━━━━━━━\u001b[0m\u001b[37m\u001b[0m \u001b[1m0s\u001b[0m 12ms/step - accuracy: 0.6436 - loss: 1.9226 - val_accuracy: 0.6098 - val_loss: 2.0488\n",
            "Epoch 94/150\n",
            "\u001b[1m8/8\u001b[0m \u001b[32m━━━━━━━━━━━━━━━━━━━━\u001b[0m\u001b[37m\u001b[0m \u001b[1m0s\u001b[0m 12ms/step - accuracy: 0.6538 - loss: 1.8662 - val_accuracy: 0.6098 - val_loss: 2.0386\n",
            "Epoch 95/150\n",
            "\u001b[1m8/8\u001b[0m \u001b[32m━━━━━━━━━━━━━━━━━━━━\u001b[0m\u001b[37m\u001b[0m \u001b[1m0s\u001b[0m 13ms/step - accuracy: 0.6602 - loss: 1.8714 - val_accuracy: 0.6098 - val_loss: 2.0287\n",
            "Epoch 96/150\n",
            "\u001b[1m8/8\u001b[0m \u001b[32m━━━━━━━━━━━━━━━━━━━━\u001b[0m\u001b[37m\u001b[0m \u001b[1m0s\u001b[0m 12ms/step - accuracy: 0.6655 - loss: 1.8433 - val_accuracy: 0.6098 - val_loss: 2.0186\n",
            "Epoch 97/150\n",
            "\u001b[1m8/8\u001b[0m \u001b[32m━━━━━━━━━━━━━━━━━━━━\u001b[0m\u001b[37m\u001b[0m \u001b[1m0s\u001b[0m 11ms/step - accuracy: 0.6881 - loss: 1.8406 - val_accuracy: 0.6098 - val_loss: 2.0084\n",
            "Epoch 98/150\n",
            "\u001b[1m8/8\u001b[0m \u001b[32m━━━━━━━━━━━━━━━━━━━━\u001b[0m\u001b[37m\u001b[0m \u001b[1m0s\u001b[0m 11ms/step - accuracy: 0.6434 - loss: 1.9989 - val_accuracy: 0.6098 - val_loss: 1.9985\n",
            "Epoch 99/150\n",
            "\u001b[1m8/8\u001b[0m \u001b[32m━━━━━━━━━━━━━━━━━━━━\u001b[0m\u001b[37m\u001b[0m \u001b[1m0s\u001b[0m 11ms/step - accuracy: 0.6741 - loss: 1.8112 - val_accuracy: 0.6098 - val_loss: 1.9886\n",
            "Epoch 100/150\n",
            "\u001b[1m8/8\u001b[0m \u001b[32m━━━━━━━━━━━━━━━━━━━━\u001b[0m\u001b[37m\u001b[0m \u001b[1m0s\u001b[0m 17ms/step - accuracy: 0.6769 - loss: 1.6590 - val_accuracy: 0.6098 - val_loss: 1.9788\n",
            "Epoch 101/150\n",
            "\u001b[1m8/8\u001b[0m \u001b[32m━━━━━━━━━━━━━━━━━━━━\u001b[0m\u001b[37m\u001b[0m \u001b[1m0s\u001b[0m 17ms/step - accuracy: 0.6805 - loss: 1.6976 - val_accuracy: 0.6098 - val_loss: 1.9687\n",
            "Epoch 102/150\n",
            "\u001b[1m8/8\u001b[0m \u001b[32m━━━━━━━━━━━━━━━━━━━━\u001b[0m\u001b[37m\u001b[0m \u001b[1m0s\u001b[0m 13ms/step - accuracy: 0.6616 - loss: 1.7883 - val_accuracy: 0.6098 - val_loss: 1.9587\n",
            "Epoch 103/150\n",
            "\u001b[1m8/8\u001b[0m \u001b[32m━━━━━━━━━━━━━━━━━━━━\u001b[0m\u001b[37m\u001b[0m \u001b[1m0s\u001b[0m 12ms/step - accuracy: 0.6576 - loss: 1.8100 - val_accuracy: 0.6098 - val_loss: 1.9486\n",
            "Epoch 104/150\n",
            "\u001b[1m8/8\u001b[0m \u001b[32m━━━━━━━━━━━━━━━━━━━━\u001b[0m\u001b[37m\u001b[0m \u001b[1m0s\u001b[0m 20ms/step - accuracy: 0.6643 - loss: 1.7963 - val_accuracy: 0.6098 - val_loss: 1.9385\n",
            "Epoch 105/150\n",
            "\u001b[1m8/8\u001b[0m \u001b[32m━━━━━━━━━━━━━━━━━━━━\u001b[0m\u001b[37m\u001b[0m \u001b[1m0s\u001b[0m 22ms/step - accuracy: 0.6880 - loss: 1.6568 - val_accuracy: 0.6098 - val_loss: 1.9283\n",
            "Epoch 106/150\n",
            "\u001b[1m8/8\u001b[0m \u001b[32m━━━━━━━━━━━━━━━━━━━━\u001b[0m\u001b[37m\u001b[0m \u001b[1m0s\u001b[0m 22ms/step - accuracy: 0.6180 - loss: 1.9310 - val_accuracy: 0.6098 - val_loss: 1.9184\n",
            "Epoch 107/150\n",
            "\u001b[1m8/8\u001b[0m \u001b[32m━━━━━━━━━━━━━━━━━━━━\u001b[0m\u001b[37m\u001b[0m \u001b[1m0s\u001b[0m 17ms/step - accuracy: 0.6706 - loss: 1.7920 - val_accuracy: 0.6098 - val_loss: 1.9084\n",
            "Epoch 108/150\n",
            "\u001b[1m8/8\u001b[0m \u001b[32m━━━━━━━━━━━━━━━━━━━━\u001b[0m\u001b[37m\u001b[0m \u001b[1m0s\u001b[0m 20ms/step - accuracy: 0.6775 - loss: 1.6758 - val_accuracy: 0.6098 - val_loss: 1.8984\n",
            "Epoch 109/150\n",
            "\u001b[1m8/8\u001b[0m \u001b[32m━━━━━━━━━━━━━━━━━━━━\u001b[0m\u001b[37m\u001b[0m \u001b[1m0s\u001b[0m 21ms/step - accuracy: 0.6828 - loss: 1.7177 - val_accuracy: 0.6098 - val_loss: 1.8883\n",
            "Epoch 110/150\n",
            "\u001b[1m8/8\u001b[0m \u001b[32m━━━━━━━━━━━━━━━━━━━━\u001b[0m\u001b[37m\u001b[0m \u001b[1m0s\u001b[0m 20ms/step - accuracy: 0.6612 - loss: 1.7799 - val_accuracy: 0.6098 - val_loss: 1.8783\n",
            "Epoch 111/150\n",
            "\u001b[1m8/8\u001b[0m \u001b[32m━━━━━━━━━━━━━━━━━━━━\u001b[0m\u001b[37m\u001b[0m \u001b[1m0s\u001b[0m 22ms/step - accuracy: 0.6403 - loss: 1.7163 - val_accuracy: 0.6098 - val_loss: 1.8684\n",
            "Epoch 112/150\n",
            "\u001b[1m8/8\u001b[0m \u001b[32m━━━━━━━━━━━━━━━━━━━━\u001b[0m\u001b[37m\u001b[0m \u001b[1m0s\u001b[0m 21ms/step - accuracy: 0.6814 - loss: 1.6194 - val_accuracy: 0.6098 - val_loss: 1.8585\n",
            "Epoch 113/150\n",
            "\u001b[1m8/8\u001b[0m \u001b[32m━━━━━━━━━━━━━━━━━━━━\u001b[0m\u001b[37m\u001b[0m \u001b[1m0s\u001b[0m 12ms/step - accuracy: 0.6804 - loss: 1.6949 - val_accuracy: 0.6098 - val_loss: 1.8487\n",
            "Epoch 114/150\n",
            "\u001b[1m8/8\u001b[0m \u001b[32m━━━━━━━━━━━━━━━━━━━━\u001b[0m\u001b[37m\u001b[0m \u001b[1m0s\u001b[0m 11ms/step - accuracy: 0.6623 - loss: 1.8168 - val_accuracy: 0.6098 - val_loss: 1.8388\n",
            "Epoch 115/150\n",
            "\u001b[1m8/8\u001b[0m \u001b[32m━━━━━━━━━━━━━━━━━━━━\u001b[0m\u001b[37m\u001b[0m \u001b[1m0s\u001b[0m 12ms/step - accuracy: 0.6992 - loss: 1.4718 - val_accuracy: 0.6098 - val_loss: 1.8289\n",
            "Epoch 116/150\n",
            "\u001b[1m8/8\u001b[0m \u001b[32m━━━━━━━━━━━━━━━━━━━━\u001b[0m\u001b[37m\u001b[0m \u001b[1m0s\u001b[0m 12ms/step - accuracy: 0.6721 - loss: 1.7008 - val_accuracy: 0.6098 - val_loss: 1.8191\n",
            "Epoch 117/150\n",
            "\u001b[1m8/8\u001b[0m \u001b[32m━━━━━━━━━━━━━━━━━━━━\u001b[0m\u001b[37m\u001b[0m \u001b[1m0s\u001b[0m 12ms/step - accuracy: 0.6648 - loss: 1.7220 - val_accuracy: 0.6098 - val_loss: 1.8094\n",
            "Epoch 118/150\n",
            "\u001b[1m8/8\u001b[0m \u001b[32m━━━━━━━━━━━━━━━━━━━━\u001b[0m\u001b[37m\u001b[0m \u001b[1m0s\u001b[0m 11ms/step - accuracy: 0.6581 - loss: 1.6587 - val_accuracy: 0.6098 - val_loss: 1.7994\n",
            "Epoch 119/150\n",
            "\u001b[1m8/8\u001b[0m \u001b[32m━━━━━━━━━━━━━━━━━━━━\u001b[0m\u001b[37m\u001b[0m \u001b[1m0s\u001b[0m 11ms/step - accuracy: 0.6633 - loss: 1.6900 - val_accuracy: 0.6098 - val_loss: 1.7897\n",
            "Epoch 120/150\n",
            "\u001b[1m8/8\u001b[0m \u001b[32m━━━━━━━━━━━━━━━━━━━━\u001b[0m\u001b[37m\u001b[0m \u001b[1m0s\u001b[0m 12ms/step - accuracy: 0.6933 - loss: 1.4680 - val_accuracy: 0.6098 - val_loss: 1.7799\n",
            "Epoch 121/150\n",
            "\u001b[1m8/8\u001b[0m \u001b[32m━━━━━━━━━━━━━━━━━━━━\u001b[0m\u001b[37m\u001b[0m \u001b[1m0s\u001b[0m 12ms/step - accuracy: 0.6541 - loss: 1.8174 - val_accuracy: 0.6098 - val_loss: 1.7704\n",
            "Epoch 122/150\n",
            "\u001b[1m8/8\u001b[0m \u001b[32m━━━━━━━━━━━━━━━━━━━━\u001b[0m\u001b[37m\u001b[0m \u001b[1m0s\u001b[0m 12ms/step - accuracy: 0.6691 - loss: 1.6173 - val_accuracy: 0.6098 - val_loss: 1.7607\n",
            "Epoch 123/150\n",
            "\u001b[1m8/8\u001b[0m \u001b[32m━━━━━━━━━━━━━━━━━━━━\u001b[0m\u001b[37m\u001b[0m \u001b[1m0s\u001b[0m 11ms/step - accuracy: 0.6862 - loss: 1.5375 - val_accuracy: 0.6098 - val_loss: 1.7509\n",
            "Epoch 124/150\n",
            "\u001b[1m8/8\u001b[0m \u001b[32m━━━━━━━━━━━━━━━━━━━━\u001b[0m\u001b[37m\u001b[0m \u001b[1m0s\u001b[0m 12ms/step - accuracy: 0.6666 - loss: 1.4735 - val_accuracy: 0.6098 - val_loss: 1.7412\n",
            "Epoch 125/150\n",
            "\u001b[1m8/8\u001b[0m \u001b[32m━━━━━━━━━━━━━━━━━━━━\u001b[0m\u001b[37m\u001b[0m \u001b[1m0s\u001b[0m 12ms/step - accuracy: 0.6838 - loss: 1.4503 - val_accuracy: 0.6098 - val_loss: 1.7316\n",
            "Epoch 126/150\n",
            "\u001b[1m8/8\u001b[0m \u001b[32m━━━━━━━━━━━━━━━━━━━━\u001b[0m\u001b[37m\u001b[0m \u001b[1m0s\u001b[0m 12ms/step - accuracy: 0.6575 - loss: 1.6332 - val_accuracy: 0.6098 - val_loss: 1.7221\n",
            "Epoch 127/150\n",
            "\u001b[1m8/8\u001b[0m \u001b[32m━━━━━━━━━━━━━━━━━━━━\u001b[0m\u001b[37m\u001b[0m \u001b[1m0s\u001b[0m 12ms/step - accuracy: 0.6633 - loss: 1.5892 - val_accuracy: 0.6098 - val_loss: 1.7127\n",
            "Epoch 128/150\n",
            "\u001b[1m8/8\u001b[0m \u001b[32m━━━━━━━━━━━━━━━━━━━━\u001b[0m\u001b[37m\u001b[0m \u001b[1m0s\u001b[0m 18ms/step - accuracy: 0.6494 - loss: 1.6757 - val_accuracy: 0.6098 - val_loss: 1.7032\n",
            "Epoch 129/150\n",
            "\u001b[1m8/8\u001b[0m \u001b[32m━━━━━━━━━━━━━━━━━━━━\u001b[0m\u001b[37m\u001b[0m \u001b[1m0s\u001b[0m 12ms/step - accuracy: 0.6593 - loss: 1.6955 - val_accuracy: 0.6098 - val_loss: 1.6938\n",
            "Epoch 130/150\n",
            "\u001b[1m8/8\u001b[0m \u001b[32m━━━━━━━━━━━━━━━━━━━━\u001b[0m\u001b[37m\u001b[0m \u001b[1m0s\u001b[0m 12ms/step - accuracy: 0.6615 - loss: 1.5073 - val_accuracy: 0.6098 - val_loss: 1.6843\n",
            "Epoch 131/150\n",
            "\u001b[1m8/8\u001b[0m \u001b[32m━━━━━━━━━━━━━━━━━━━━\u001b[0m\u001b[37m\u001b[0m \u001b[1m0s\u001b[0m 13ms/step - accuracy: 0.6829 - loss: 1.4502 - val_accuracy: 0.6098 - val_loss: 1.6749\n",
            "Epoch 132/150\n",
            "\u001b[1m8/8\u001b[0m \u001b[32m━━━━━━━━━━━━━━━━━━━━\u001b[0m\u001b[37m\u001b[0m \u001b[1m0s\u001b[0m 12ms/step - accuracy: 0.6694 - loss: 1.6046 - val_accuracy: 0.6098 - val_loss: 1.6655\n",
            "Epoch 133/150\n",
            "\u001b[1m8/8\u001b[0m \u001b[32m━━━━━━━━━━━━━━━━━━━━\u001b[0m\u001b[37m\u001b[0m \u001b[1m0s\u001b[0m 12ms/step - accuracy: 0.6714 - loss: 1.6333 - val_accuracy: 0.6098 - val_loss: 1.6563\n",
            "Epoch 134/150\n",
            "\u001b[1m8/8\u001b[0m \u001b[32m━━━━━━━━━━━━━━━━━━━━\u001b[0m\u001b[37m\u001b[0m \u001b[1m0s\u001b[0m 11ms/step - accuracy: 0.6778 - loss: 1.5094 - val_accuracy: 0.6098 - val_loss: 1.6468\n",
            "Epoch 135/150\n",
            "\u001b[1m8/8\u001b[0m \u001b[32m━━━━━━━━━━━━━━━━━━━━\u001b[0m\u001b[37m\u001b[0m \u001b[1m0s\u001b[0m 12ms/step - accuracy: 0.6767 - loss: 1.4957 - val_accuracy: 0.6098 - val_loss: 1.6377\n",
            "Epoch 136/150\n",
            "\u001b[1m8/8\u001b[0m \u001b[32m━━━━━━━━━━━━━━━━━━━━\u001b[0m\u001b[37m\u001b[0m \u001b[1m0s\u001b[0m 12ms/step - accuracy: 0.6748 - loss: 1.3990 - val_accuracy: 0.6098 - val_loss: 1.6284\n",
            "Epoch 137/150\n",
            "\u001b[1m8/8\u001b[0m \u001b[32m━━━━━━━━━━━━━━━━━━━━\u001b[0m\u001b[37m\u001b[0m \u001b[1m0s\u001b[0m 11ms/step - accuracy: 0.6616 - loss: 1.5284 - val_accuracy: 0.6098 - val_loss: 1.6190\n",
            "Epoch 138/150\n",
            "\u001b[1m8/8\u001b[0m \u001b[32m━━━━━━━━━━━━━━━━━━━━\u001b[0m\u001b[37m\u001b[0m \u001b[1m0s\u001b[0m 11ms/step - accuracy: 0.6701 - loss: 1.4443 - val_accuracy: 0.6098 - val_loss: 1.6098\n",
            "Epoch 139/150\n",
            "\u001b[1m8/8\u001b[0m \u001b[32m━━━━━━━━━━━━━━━━━━━━\u001b[0m\u001b[37m\u001b[0m \u001b[1m0s\u001b[0m 14ms/step - accuracy: 0.6779 - loss: 1.3726 - val_accuracy: 0.6098 - val_loss: 1.6006\n",
            "Epoch 140/150\n",
            "\u001b[1m8/8\u001b[0m \u001b[32m━━━━━━━━━━━━━━━━━━━━\u001b[0m\u001b[37m\u001b[0m \u001b[1m0s\u001b[0m 13ms/step - accuracy: 0.6477 - loss: 1.5472 - val_accuracy: 0.6098 - val_loss: 1.5914\n",
            "Epoch 141/150\n",
            "\u001b[1m8/8\u001b[0m \u001b[32m━━━━━━━━━━━━━━━━━━━━\u001b[0m\u001b[37m\u001b[0m \u001b[1m0s\u001b[0m 12ms/step - accuracy: 0.6689 - loss: 1.3444 - val_accuracy: 0.6098 - val_loss: 1.5822\n",
            "Epoch 142/150\n",
            "\u001b[1m8/8\u001b[0m \u001b[32m━━━━━━━━━━━━━━━━━━━━\u001b[0m\u001b[37m\u001b[0m \u001b[1m0s\u001b[0m 12ms/step - accuracy: 0.6843 - loss: 1.2772 - val_accuracy: 0.6098 - val_loss: 1.5731\n",
            "Epoch 143/150\n",
            "\u001b[1m8/8\u001b[0m \u001b[32m━━━━━━━━━━━━━━━━━━━━\u001b[0m\u001b[37m\u001b[0m \u001b[1m0s\u001b[0m 12ms/step - accuracy: 0.6679 - loss: 1.3946 - val_accuracy: 0.6098 - val_loss: 1.5641\n",
            "Epoch 144/150\n",
            "\u001b[1m8/8\u001b[0m \u001b[32m━━━━━━━━━━━━━━━━━━━━\u001b[0m\u001b[37m\u001b[0m \u001b[1m0s\u001b[0m 12ms/step - accuracy: 0.6779 - loss: 1.4503 - val_accuracy: 0.6098 - val_loss: 1.5553\n",
            "Epoch 145/150\n",
            "\u001b[1m8/8\u001b[0m \u001b[32m━━━━━━━━━━━━━━━━━━━━\u001b[0m\u001b[37m\u001b[0m \u001b[1m0s\u001b[0m 11ms/step - accuracy: 0.6370 - loss: 1.6019 - val_accuracy: 0.6098 - val_loss: 1.5467\n",
            "Epoch 146/150\n",
            "\u001b[1m8/8\u001b[0m \u001b[32m━━━━━━━━━━━━━━━━━━━━\u001b[0m\u001b[37m\u001b[0m \u001b[1m0s\u001b[0m 17ms/step - accuracy: 0.6674 - loss: 1.3334 - val_accuracy: 0.6098 - val_loss: 1.5380\n",
            "Epoch 147/150\n",
            "\u001b[1m8/8\u001b[0m \u001b[32m━━━━━━━━━━━━━━━━━━━━\u001b[0m\u001b[37m\u001b[0m \u001b[1m0s\u001b[0m 12ms/step - accuracy: 0.6654 - loss: 1.5069 - val_accuracy: 0.6098 - val_loss: 1.5293\n",
            "Epoch 148/150\n",
            "\u001b[1m8/8\u001b[0m \u001b[32m━━━━━━━━━━━━━━━━━━━━\u001b[0m\u001b[37m\u001b[0m \u001b[1m0s\u001b[0m 14ms/step - accuracy: 0.6661 - loss: 1.3247 - val_accuracy: 0.6098 - val_loss: 1.5208\n",
            "Epoch 149/150\n",
            "\u001b[1m8/8\u001b[0m \u001b[32m━━━━━━━━━━━━━━━━━━━━\u001b[0m\u001b[37m\u001b[0m \u001b[1m0s\u001b[0m 12ms/step - accuracy: 0.6457 - loss: 1.5168 - val_accuracy: 0.6098 - val_loss: 1.5123\n",
            "Epoch 150/150\n",
            "\u001b[1m8/8\u001b[0m \u001b[32m━━━━━━━━━━━━━━━━━━━━\u001b[0m\u001b[37m\u001b[0m \u001b[1m0s\u001b[0m 12ms/step - accuracy: 0.6775 - loss: 1.4076 - val_accuracy: 0.6098 - val_loss: 1.5037\n"
          ]
        }
      ]
    },
    {
      "cell_type": "code",
      "source": [
        "\n",
        "y_pred = (model.predict(X_test) > 0.5).astype(int)\n",
        "\n",
        "\n",
        "accuracy = accuracy_score(y_test, y_pred)\n",
        "print(f'Test Accuracy: {accuracy:.2f}')\n",
        "\n",
        "cm = confusion_matrix(y_test, y_pred)\n",
        "sns.heatmap(cm, annot=True, fmt='d', cmap='Blues')\n",
        "plt.xlabel('Predicted')\n",
        "plt.ylabel('Actual')\n",
        "plt.title('Confusion Matrix')\n",
        "plt.show()\n",
        "\n",
        "\n",
        "precision = precision_score(y_test, y_pred)\n",
        "recall = recall_score(y_test, y_pred)\n",
        "f1 = f1_score(y_test, y_pred)\n",
        "\n",
        "print(f'Precision: {precision:.2f}')\n",
        "print(f'Recall: {recall:.2f}')\n",
        "print(f'F1 Score: {f1:.2f}')\n",
        "\n",
        "\n",
        "print('Classification Report:')\n",
        "print(classification_report(y_test, y_pred))\n",
        "\n"
      ],
      "metadata": {
        "colab": {
          "base_uri": "https://localhost:8080/",
          "height": 909
        },
        "id": "biRuTqbLYUbR",
        "outputId": "d2d6dbb7-d5ea-4e12-8e53-fa27d22451b1"
      },
      "execution_count": null,
      "outputs": [
        {
          "output_type": "stream",
          "name": "stderr",
          "text": [
            "WARNING:tensorflow:6 out of the last 12 calls to <function TensorFlowTrainer.make_predict_function.<locals>.one_step_on_data_distributed at 0x7c1e53076660> triggered tf.function retracing. Tracing is expensive and the excessive number of tracings could be due to (1) creating @tf.function repeatedly in a loop, (2) passing tensors with different shapes, (3) passing Python objects instead of tensors. For (1), please define your @tf.function outside of the loop. For (2), @tf.function has reduce_retracing=True option that can avoid unnecessary retracing. For (3), please refer to https://www.tensorflow.org/guide/function#controlling_retracing and https://www.tensorflow.org/api_docs/python/tf/function for  more details.\n"
          ]
        },
        {
          "output_type": "stream",
          "name": "stdout",
          "text": [
            "\u001b[1m5/5\u001b[0m \u001b[32m━━━━━━━━━━━━━━━━━━━━\u001b[0m\u001b[37m\u001b[0m \u001b[1m0s\u001b[0m 18ms/step\n",
            "Test Accuracy: 0.64\n"
          ]
        },
        {
          "output_type": "display_data",
          "data": {
            "text/plain": [
              "<Figure size 640x480 with 2 Axes>"
            ],
            "image/png": "[encoded data removed]"
          },
          "metadata": {}
        },
        {
          "output_type": "stream",
          "name": "stdout",
          "text": [
            "Precision: 0.00\n",
            "Recall: 0.00\n",
            "F1 Score: 0.00\n",
            "Classification Report:\n",
            "              precision    recall  f1-score   support\n",
            "\n",
            "           0       0.64      1.00      0.78        99\n",
            "           1       0.00      0.00      0.00        55\n",
            "\n",
            "    accuracy                           0.64       154\n",
            "   macro avg       0.32      0.50      0.39       154\n",
            "weighted avg       0.41      0.64      0.50       154\n",
            "\n"
          ]
        },
        {
          "output_type": "stream",
          "name": "stderr",
          "text": [
            "/usr/local/lib/python3.11/dist-packages/sklearn/metrics/_classification.py:1565: UndefinedMetricWarning: Precision is ill-defined and being set to 0.0 due to no predicted samples. Use `zero_division` parameter to control this behavior.\n",
            "  _warn_prf(average, modifier, f\"{metric.capitalize()} is\", len(result))\n",
            "/usr/local/lib/python3.11/dist-packages/sklearn/metrics/_classification.py:1565: UndefinedMetricWarning: Precision is ill-defined and being set to 0.0 in labels with no predicted samples. Use `zero_division` parameter to control this behavior.\n",
            "  _warn_prf(average, modifier, f\"{metric.capitalize()} is\", len(result))\n",
            "/usr/local/lib/python3.11/dist-packages/sklearn/metrics/_classification.py:1565: UndefinedMetricWarning: Precision is ill-defined and being set to 0.0 in labels with no predicted samples. Use `zero_division` parameter to control this behavior.\n",
            "  _warn_prf(average, modifier, f\"{metric.capitalize()} is\", len(result))\n",
            "/usr/local/lib/python3.11/dist-packages/sklearn/metrics/_classification.py:1565: UndefinedMetricWarning: Precision is ill-defined and being set to 0.0 in labels with no predicted samples. Use `zero_division` parameter to control this behavior.\n",
            "  _warn_prf(average, modifier, f\"{metric.capitalize()} is\", len(result))\n"
          ]
        }
      ]
    },
    {
      "cell_type": "code",
      "source": [
        "model.save('/content/diabetes_ann_model.h5')\n",
        "\n",
        "\n",
        "loaded_model = keras.models.load_model('/content/diabetes_ann_model.h5')\n"
      ],
      "metadata": {
        "colab": {
          "base_uri": "https://localhost:8080/"
        },
        "id": "y1WwG2P3anH5",
        "outputId": "4801abd5-8346-42ed-e137-9dbc021d1397"
      },
      "execution_count": null,
      "outputs": [
        {
          "output_type": "stream",
          "name": "stderr",
          "text": [
            "WARNING:absl:You are saving your model as an HDF5 file via `model.save()` or `keras.saving.save_model(model)`. This file format is considered legacy. We recommend using instead the native Keras format, e.g. `model.save('my_model.keras')` or `keras.saving.save_model(model, 'my_model.keras')`. \n",
            "WARNING:absl:Compiled the loaded model, but the compiled metrics have yet to be built. `model.compile_metrics` will be empty until you train or evaluate the model.\n"
          ]
        }
      ]
    },
    {
      "cell_type": "code",
      "source": [
        "sample_data = np.array([X_test[0]])\n",
        "\n",
        "prediction = (loaded_model.predict(sample_data) > 0.5).astype(int)\n",
        "print(f'Prediction for sample data: {prediction[0][0]}')\n"
      ],
      "metadata": {
        "colab": {
          "base_uri": "https://localhost:8080/"
        },
        "id": "j5iRpywGattW",
        "outputId": "736e11b4-51ea-42a0-f7b0-a16aa9f02e64"
      },
      "execution_count": null,
      "outputs": [
        {
          "output_type": "stream",
          "name": "stdout",
          "text": [
            "\u001b[1m1/1\u001b[0m \u001b[32m━━━━━━━━━━━━━━━━━━━━\u001b[0m\u001b[37m\u001b[0m \u001b[1m0s\u001b[0m 125ms/step\n",
            "Prediction for sample data: 0\n"
          ]
        }
      ]
    }
  ]
}